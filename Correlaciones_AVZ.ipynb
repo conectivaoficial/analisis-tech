{
  "nbformat": 4,
  "nbformat_minor": 0,
  "metadata": {
    "colab": {
      "provenance": []
    },
    "kernelspec": {
      "name": "python3",
      "display_name": "Python 3"
    },
    "language_info": {
      "name": "python"
    }
  },
  "cells": [
    {
      "cell_type": "code",
      "source": [
        "!pip install association-metrics\n",
        "!pip install phik"
      ],
      "metadata": {
        "id": "d_1QpZJcnFw8"
      },
      "execution_count": null,
      "outputs": []
    },
    {
      "cell_type": "code",
      "execution_count": null,
      "metadata": {
        "id": "ZU1sFgROm8Ih"
      },
      "outputs": [],
      "source": [
        "import pandas as pd\n",
        "import numpy as np\n",
        "from scipy.stats import chi2_contingency\n",
        "\n",
        "np.random.seed(42)\n",
        "\n",
        "n = 1000\n",
        "data = {\n",
        "    'Género': np.random.choice(['Masculino', 'Femenino'], size=n),\n",
        "    'Estado Civil': np.random.choice(['Soltero', 'Casado', 'Divorciado'], size=n),\n",
        "    'Preferencia de Producto': np.random.choice(['Electrónica', 'Ropa', 'Alimentos'], size=n)\n",
        "}\n",
        "\n",
        "df = pd.DataFrame(data)\n",
        "\n",
        "df.head()\n"
      ]
    },
    {
      "cell_type": "code",
      "source": [
        "# Función para calcular Cramér's V\n",
        "def cramers_v(contingency_table):\n",
        "    chi2, p, dof, expected = chi2_contingency(contingency_table)\n",
        "    n = contingency_table.sum().sum()\n",
        "    return np.sqrt(chi2 / (n * (min(contingency_table.shape) - 1)))\n",
        "\n",
        "contingency_gender_civil = pd.crosstab(df['Género'], df['Estado Civil'])\n",
        "cramers_v_gender_civil = cramers_v(contingency_gender_civil)\n",
        "print(f\"Cramér's V entre Género y Estado Civil: {cramers_v_gender_civil:.4f}\")\n",
        "\n",
        "contingency_gender_product = pd.crosstab(df['Género'], df['Preferencia de Producto'])\n",
        "cramers_v_gender_product = cramers_v(contingency_gender_product)\n",
        "print(f\"Cramér's V entre Género y Preferencia de Producto: {cramers_v_gender_product:.4f}\")\n",
        "\n",
        "contingency_civil_product = pd.crosstab(df['Estado Civil'], df['Preferencia de Producto'])\n",
        "cramers_v_civil_product = cramers_v(contingency_civil_product)\n",
        "print(f\"Cramér's V entre Estado Civil y Preferencia de Producto: {cramers_v_civil_product:.4f}\")"
      ],
      "metadata": {
        "id": "YVroO3irnRVC"
      },
      "execution_count": null,
      "outputs": []
    },
    {
      "cell_type": "code",
      "source": [
        "import phik\n",
        "\n",
        "phik_matrix = df.phik_matrix()\n",
        "print(phik_matrix)\n",
        "\n",
        "phik_gender_civil = phik_matrix.loc['Género', 'Estado Civil']\n",
        "phik_gender_product = phik_matrix.loc['Género', 'Preferencia de Producto']\n",
        "phik_civil_product = phik_matrix.loc['Estado Civil', 'Preferencia de Producto']\n",
        "\n",
        "print(f\"Phik entre Género y Estado Civil: {phik_gender_civil:.4f}\")\n",
        "print(f\"Phik entre Género y Preferencia de Producto: {phik_gender_product:.4f}\")\n",
        "print(f\"Phik entre Estado Civil y Preferencia de Producto: {phik_civil_product:.4f}\")\n"
      ],
      "metadata": {
        "id": "ogyJ9AYIny0A"
      },
      "execution_count": null,
      "outputs": []
    }
  ]
}
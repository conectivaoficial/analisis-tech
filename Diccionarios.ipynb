{
  "nbformat": 4,
  "nbformat_minor": 0,
  "metadata": {
    "colab": {
      "provenance": []
    },
    "kernelspec": {
      "name": "python3",
      "display_name": "Python 3"
    },
    "language_info": {
      "name": "python"
    }
  },
  "cells": [
    {
      "cell_type": "code",
      "source": [
        "lista1=[1,2,3]\n",
        "lista2=[4,5,6]\n",
        "lista1.extend(lista2)\n",
        "lista1"
      ],
      "metadata": {
        "colab": {
          "base_uri": "https://localhost:8080/"
        },
        "id": "UWA8pkpAEpfc",
        "outputId": "14c16b13-aad5-496d-c664-779f8e163366"
      },
      "execution_count": null,
      "outputs": [
        {
          "output_type": "execute_result",
          "data": {
            "text/plain": [
              "[1, 2, 3, 4, 5, 6]"
            ]
          },
          "metadata": {},
          "execution_count": 1
        }
      ]
    },
    {
      "cell_type": "code",
      "source": [
        "lista1.reverse()\n",
        "lista1"
      ],
      "metadata": {
        "colab": {
          "base_uri": "https://localhost:8080/"
        },
        "id": "kFx85_lBEvLF",
        "outputId": "ee7cb302-2a42-428d-e337-830d9c0e71fb"
      },
      "execution_count": null,
      "outputs": [
        {
          "output_type": "execute_result",
          "data": {
            "text/plain": [
              "[6, 5, 4, 3, 2, 1]"
            ]
          },
          "metadata": {},
          "execution_count": 2
        }
      ]
    },
    {
      "cell_type": "markdown",
      "source": [
        "### **Diccionarios en Python**\n",
        "\n",
        "Es una estructura de datos que permite almacenar pares clave-valor, donde cada valor está asociado a una clave única. Los diccionarios son muy útiles para mapear información y recuperar valores de manera eficiente.\n",
        "\n",
        "**Creación de Diccionarios:** Los diccionarios se crean utilizando llaves {} y especificando pares clave-valor separados por dos puntos :\n",
        "Por ejemplo: `mi_diccionario = {'nombre': 'Juan', 'edad': 25}.`\n",
        "\n",
        "**Acceso a Elementos de Diccionarios:** Los elementos de un diccionario se acceden mediante su clave.\n",
        "Por ejemplo:\n",
        "\n",
        "`nombre = mi_diccionario['nombre'] `\n",
        "\n",
        "Obtendrá el valor asociado a la clave 'nombre'.\n",
        "\n",
        "**Métodos de Diccionario:** Python proporciona varios métodos incorporados para trabajar con diccionarios, como keys(), values(), items(), get(), update(), pop(), popitem(), entre otros."
      ],
      "metadata": {
        "id": "My_9Hr7bPEXB"
      }
    },
    {
      "cell_type": "code",
      "source": [
        "diccionario={key:value, key:value, key:value....}  #estructura simple\n",
        "\n",
        "diccionario={subdiccionario:{key:value, key:value, key:value}}\n",
        "\n",
        "diccionario={subdiccionario:{key:[dato1, dato2, dato2, key:value, key:value]}....}"
      ],
      "metadata": {
        "id": "kG0ORnnSFEJd"
      },
      "execution_count": null,
      "outputs": []
    },
    {
      "cell_type": "markdown",
      "source": [
        "### Operaciones Comunes\n",
        "\n",
        "Algunas operaciones comunes en diccionarios incluyen la actualización de valores, eliminación de elementos, verificación de la existencia de una clave y obtención de la longitud del diccionario.\n",
        "\n",
        "**Ejemplo 1: Creación de un diccionario y acceso a elementos.**"
      ],
      "metadata": {
        "id": "ZqYuVNGdPxiU"
      }
    },
    {
      "cell_type": "code",
      "source": [
        "mi_diccionario={\"nombre\":\"Ana\", \"edad\":22, \"ciudad\":\"Cúcuta\"}\n",
        "mi_diccionario"
      ],
      "metadata": {
        "id": "xRe1VlbUPRXs",
        "colab": {
          "base_uri": "https://localhost:8080/"
        },
        "outputId": "79f8d2e9-b898-49be-9f0b-5a9044926921"
      },
      "execution_count": null,
      "outputs": [
        {
          "output_type": "execute_result",
          "data": {
            "text/plain": [
              "{'nombre': 'Ana', 'edad': 22, 'ciudad': 'Cúcuta'}"
            ]
          },
          "metadata": {},
          "execution_count": 8
        }
      ]
    },
    {
      "cell_type": "markdown",
      "source": [
        "**Ejemplo 2: Iteración a través de un diccionario.**"
      ],
      "metadata": {
        "id": "A1uruT7wP58J"
      }
    },
    {
      "cell_type": "code",
      "source": [
        "mi_diccionario[\"nombre\"]"
      ],
      "metadata": {
        "id": "enkcpyT_P7H8",
        "colab": {
          "base_uri": "https://localhost:8080/",
          "height": 36
        },
        "outputId": "c6addd2f-1d55-4ffd-a5ce-34f271408d3b"
      },
      "execution_count": null,
      "outputs": [
        {
          "output_type": "execute_result",
          "data": {
            "text/plain": [
              "'Ana'"
            ],
            "application/vnd.google.colaboratory.intrinsic+json": {
              "type": "string"
            }
          },
          "metadata": {},
          "execution_count": 5
        }
      ]
    },
    {
      "cell_type": "code",
      "source": [
        "for i, j in mi_diccionario.items():\n",
        "  print(f\"Clave: {i}, Valor: {j}\")"
      ],
      "metadata": {
        "colab": {
          "base_uri": "https://localhost:8080/"
        },
        "id": "LoQslt7wGwQF",
        "outputId": "f2a85144-a5ca-4ebc-c575-9a169db71e6e"
      },
      "execution_count": null,
      "outputs": [
        {
          "output_type": "stream",
          "name": "stdout",
          "text": [
            "Clave: nombre, Valor: Ana\n",
            "Clave: edad, Valor: 22\n",
            "Clave: ciudad, Valor: Cúcuta\n"
          ]
        }
      ]
    },
    {
      "cell_type": "markdown",
      "source": [
        "### **Ejercicios:**"
      ],
      "metadata": {
        "id": "LOPnsMmmQxcg"
      }
    },
    {
      "cell_type": "code",
      "source": [
        "colores={\"azul\":\"blue\",\"blanco\":\"white\",\"amarillo\":\"yellow\",\"verde\":\"green\",\"negro\":\"black\"}"
      ],
      "metadata": {
        "id": "Z5eseiZfYk3W"
      },
      "execution_count": null,
      "outputs": []
    },
    {
      "cell_type": "code",
      "source": [
        "colores[\"blanco\"]"
      ],
      "metadata": {
        "id": "x1Lx0GBoY-VX",
        "colab": {
          "base_uri": "https://localhost:8080/",
          "height": 36
        },
        "outputId": "d885b101-b584-4318-cfb2-e4395c05de4a"
      },
      "execution_count": null,
      "outputs": [
        {
          "output_type": "execute_result",
          "data": {
            "text/plain": [
              "'white'"
            ],
            "application/vnd.google.colaboratory.intrinsic+json": {
              "type": "string"
            }
          },
          "metadata": {},
          "execution_count": 15
        }
      ]
    },
    {
      "cell_type": "code",
      "source": [
        "colores[\"dorado\"]=\"gold\"  #Crear un nuevo item dentro de mi diccionario\n",
        "colores"
      ],
      "metadata": {
        "id": "Gqkx0KSsZcRP",
        "colab": {
          "base_uri": "https://localhost:8080/"
        },
        "outputId": "a48f5b32-682b-4a8c-8d0c-375659833276"
      },
      "execution_count": null,
      "outputs": [
        {
          "output_type": "execute_result",
          "data": {
            "text/plain": [
              "{'azul': 'blue',\n",
              " 'blanco': 'white',\n",
              " 'amarillo': 'yellow',\n",
              " 'verde': 'green',\n",
              " 'negro': 'black',\n",
              " 'dorado': 'gold'}"
            ]
          },
          "metadata": {},
          "execution_count": 16
        }
      ]
    },
    {
      "cell_type": "code",
      "source": [
        "#historia clinica\n",
        "HcHoy={\"Tatiana\":{\"edad\":32, \"peso\":55, \"estatura\": 1.58, \"colesterol\":False},\"Lorenzo\":{\"edad\":6, \"peso\":45, \"estatura\": 1.38, \"colesterol\":False}}"
      ],
      "metadata": {
        "id": "zNCT8vgIKcbN"
      },
      "execution_count": null,
      "outputs": []
    },
    {
      "cell_type": "code",
      "source": [
        "HcHoy"
      ],
      "metadata": {
        "colab": {
          "base_uri": "https://localhost:8080/"
        },
        "id": "L11PY-sjLUSh",
        "outputId": "6371ca63-c537-413b-aa8d-79a80b9783ff"
      },
      "execution_count": null,
      "outputs": [
        {
          "output_type": "execute_result",
          "data": {
            "text/plain": [
              "{'Tatiana': {'edad': 32, 'peso': 55, 'estatura': 1.58, 'colesterol': False},\n",
              " 'Lorenzo': {'edad': 6, 'peso': 45, 'estatura': 1.38, 'colesterol': False}}"
            ]
          },
          "metadata": {},
          "execution_count": 18
        }
      ]
    },
    {
      "cell_type": "code",
      "source": [
        "HcHoy[\"Lorenzo\"]"
      ],
      "metadata": {
        "colab": {
          "base_uri": "https://localhost:8080/"
        },
        "id": "AWqAbEMfLX4o",
        "outputId": "f7da6df5-5a61-447e-a556-b4645e14a1ae"
      },
      "execution_count": null,
      "outputs": [
        {
          "output_type": "execute_result",
          "data": {
            "text/plain": [
              "{'edad': 6, 'peso': 45, 'estatura': 1.38, 'colesterol': False}"
            ]
          },
          "metadata": {},
          "execution_count": 19
        }
      ]
    },
    {
      "cell_type": "code",
      "source": [
        "HcHoy[\"Tatiana\"][\"estatura\"]"
      ],
      "metadata": {
        "colab": {
          "base_uri": "https://localhost:8080/"
        },
        "id": "MayknacQLb7x",
        "outputId": "b57ffee6-44ec-4c17-8de6-d379d39dd957"
      },
      "execution_count": null,
      "outputs": [
        {
          "output_type": "execute_result",
          "data": {
            "text/plain": [
              "1.58"
            ]
          },
          "metadata": {},
          "execution_count": 20
        }
      ]
    },
    {
      "cell_type": "code",
      "source": [
        "diccionario={\"natali\":\"velasquez\",\"karen\":\"mejia\",\"josé\":\"Bolaños\",\"Juan\":\"taborda\"}\n",
        "\n",
        "apellido_karen=diccionario.get(\"karen\")\n",
        "apellido_karen"
      ],
      "metadata": {
        "id": "di1bUzkLDy2s"
      },
      "execution_count": null,
      "outputs": []
    },
    {
      "cell_type": "markdown",
      "source": [
        "**Agenda Telefónica**\n",
        "\n",
        "Con la ayuda de los diccionarios desarrolle un pequeño aplicativo que funcione como una agenda telefonica, donde guarde nombre del usuario, telefono y correo electrónico. La agenda deja de guardar al escribir 0 en el lugar del nombre."
      ],
      "metadata": {
        "id": "omu3e7n3HwxD"
      }
    },
    {
      "cell_type": "code",
      "source": [
        "agenda={}  #declaramos un diccionario vacio llamado agenda\n",
        "print(\"BIENVENIDO A TU AGENDA TELEFONICA \")\n",
        "while True:\n",
        "  nombre=input(\"Por favor ingrese el nombre: \")\n",
        "  if nombre==\"0\":\n",
        "    break\n",
        "  else:\n",
        "    telefono=input(\"Por favor ingrese el numero telefonico: \")\n",
        "    correo=input(\"Por favor ingrese el correo electronico: \")\n",
        "    agenda[nombre]={telefono, correo}\n",
        "    print(\"Gracias por guardar tu contacto, continua guardando si deseas, de lo contrario oprime 0\")"
      ],
      "metadata": {
        "id": "MnUY9l_cak4h",
        "colab": {
          "base_uri": "https://localhost:8080/"
        },
        "outputId": "f3c63de5-4bbb-4f79-8619-ad7fc0c18697"
      },
      "execution_count": null,
      "outputs": [
        {
          "name": "stdout",
          "output_type": "stream",
          "text": [
            "BIENVENIDO A TU AGENDA TELEFONICA \n",
            "Por favor ingrese el nombre: Juan\n",
            "Por favor ingrese el numero telefonico: 3213213212\n",
            "Por favor ingrese el correo electronico: juan@juan.com\n",
            "Gracias por guardar tu contacto, continua guardando si deseas, de lo contrario oprime 0\n",
            "Por favor ingrese el nombre: 0\n"
          ]
        }
      ]
    },
    {
      "cell_type": "code",
      "source": [
        "agenda"
      ],
      "metadata": {
        "id": "7F53OtnlcVsa",
        "colab": {
          "base_uri": "https://localhost:8080/"
        },
        "outputId": "4e4e1011-81c8-481f-a33a-2966f6bcd86d"
      },
      "execution_count": null,
      "outputs": [
        {
          "output_type": "execute_result",
          "data": {
            "text/plain": [
              "{'Natali': {'3003003001', 'nata@nata.com'},\n",
              " 'Karen': {'3013013012', 'karen@karen.com'},\n",
              " 'David': {'3023023023', 'david@david.com'},\n",
              " 'Juan': {'3213213212', 'juan@juan.com'}}"
            ]
          },
          "metadata": {},
          "execution_count": 5
        }
      ]
    },
    {
      "cell_type": "markdown",
      "source": [
        "Busque los datos de un usuario:"
      ],
      "metadata": {
        "id": "7kN4Iw4jInS0"
      }
    },
    {
      "cell_type": "code",
      "source": [
        "agenda[\"David\"]"
      ],
      "metadata": {
        "colab": {
          "base_uri": "https://localhost:8080/"
        },
        "id": "YlefbDcvHF60",
        "outputId": "1f6ee2d0-eacb-4573-b5cc-97619a4afb03"
      },
      "execution_count": null,
      "outputs": [
        {
          "output_type": "execute_result",
          "data": {
            "text/plain": [
              "{'3023023023', 'david@david.com'}"
            ]
          },
          "metadata": {},
          "execution_count": 3
        }
      ]
    },
    {
      "cell_type": "code",
      "source": [
        "valores=agenda[\"David\"]\n",
        "valores"
      ],
      "metadata": {
        "colab": {
          "base_uri": "https://localhost:8080/"
        },
        "id": "P1t4iEMPJWA8",
        "outputId": "31d3efc8-819b-4537-e43b-2887bf6b435e"
      },
      "execution_count": null,
      "outputs": [
        {
          "output_type": "execute_result",
          "data": {
            "text/plain": [
              "{'3023023023', 'david@david.com'}"
            ]
          },
          "metadata": {},
          "execution_count": 6
        }
      ]
    },
    {
      "cell_type": "code",
      "source": [
        "valores[1]  #no se pueden ver los valores dentro de un set igual que en una lista"
      ],
      "metadata": {
        "colab": {
          "base_uri": "https://localhost:8080/",
          "height": 176
        },
        "id": "sjqQudquJtkM",
        "outputId": "efaf7b34-003e-4eb7-bc1a-c7b161800abf"
      },
      "execution_count": null,
      "outputs": [
        {
          "output_type": "error",
          "ename": "TypeError",
          "evalue": "ignored",
          "traceback": [
            "\u001b[0;31m---------------------------------------------------------------------------\u001b[0m",
            "\u001b[0;31mTypeError\u001b[0m                                 Traceback (most recent call last)",
            "\u001b[0;32m<ipython-input-8-33284e972d0d>\u001b[0m in \u001b[0;36m<cell line: 1>\u001b[0;34m()\u001b[0m\n\u001b[0;32m----> 1\u001b[0;31m \u001b[0mvalores\u001b[0m\u001b[0;34m[\u001b[0m\u001b[0;36m1\u001b[0m\u001b[0;34m]\u001b[0m\u001b[0;34m\u001b[0m\u001b[0;34m\u001b[0m\u001b[0m\n\u001b[0m",
            "\u001b[0;31mTypeError\u001b[0m: 'set' object is not subscriptable"
          ]
        }
      ]
    },
    {
      "cell_type": "code",
      "source": [
        "list(valores)[1]"
      ],
      "metadata": {
        "colab": {
          "base_uri": "https://localhost:8080/",
          "height": 36
        },
        "id": "46VIuV0IJf8B",
        "outputId": "a1ffe1b9-dac7-4d48-86eb-649364580af5"
      },
      "execution_count": null,
      "outputs": [
        {
          "output_type": "execute_result",
          "data": {
            "text/plain": [
              "'david@david.com'"
            ],
            "application/vnd.google.colaboratory.intrinsic+json": {
              "type": "string"
            }
          },
          "metadata": {},
          "execution_count": 9
        }
      ]
    },
    {
      "cell_type": "code",
      "source": [
        "for clave,valor in agenda.items():\n",
        "  if list(valor)[0].isdigit():\n",
        "    print(\"El telefono si es numerico, se considera correcto\")\n",
        "  else:\n",
        "    print(\"El numero esta mal pues no es solo numerico\")"
      ],
      "metadata": {
        "colab": {
          "base_uri": "https://localhost:8080/"
        },
        "id": "tRK3Vf1hJ-wh",
        "outputId": "77e508dc-88ae-4b7a-8d08-84b90fc4ab58"
      },
      "execution_count": null,
      "outputs": [
        {
          "output_type": "stream",
          "name": "stdout",
          "text": [
            "El numero esta mal pues no es solo numerico\n",
            "El numero esta mal pues no es solo numerico\n",
            "El telefono si es numerico, se considera correcto\n",
            "El telefono si es numerico, se considera correcto\n"
          ]
        }
      ]
    },
    {
      "cell_type": "markdown",
      "metadata": {
        "id": "LpE7er3uvxx7"
      },
      "source": [
        "**Diccionario de Listas**"
      ]
    },
    {
      "cell_type": "code",
      "source": [
        "equipos= {\"Tigres\":[\"Patricia\", \"Juana\", \"Esmeralda\"],\n",
        "          \"Diablos\":[\"Jorge\",\"Diana\",\"Luis\"],\n",
        "          \"lobos\":[\"Alejandro\",\"Paola\",\"Yenny\"]}"
      ],
      "metadata": {
        "id": "m8j1LqD5UswR"
      },
      "execution_count": null,
      "outputs": []
    },
    {
      "cell_type": "code",
      "source": [
        "for nombreEquipo in equipos:\n",
        "  print(nombreEquipo, equipos[nombreEquipo])"
      ],
      "metadata": {
        "id": "15sZ1_NvV-5k",
        "colab": {
          "base_uri": "https://localhost:8080/"
        },
        "outputId": "35c3702c-517c-4614-937b-8a6757ffdd86"
      },
      "execution_count": null,
      "outputs": [
        {
          "output_type": "stream",
          "name": "stdout",
          "text": [
            "Tigres ['Patricia', 'Juana', 'Esmeralda']\n",
            "Diablos ['Jorge', 'Diana', 'Luis']\n",
            "lobos ['Alejandro', 'Paola', 'Yenny']\n"
          ]
        }
      ]
    },
    {
      "cell_type": "code",
      "source": [
        "print(\"Estos son los integrantes del equipo Tigres\")\n",
        "print(equipos[\"Tigres\"])"
      ],
      "metadata": {
        "id": "rNIwDDbcWrsg",
        "colab": {
          "base_uri": "https://localhost:8080/"
        },
        "outputId": "5206a3fe-9d27-4d3e-a0a4-652991941739"
      },
      "execution_count": null,
      "outputs": [
        {
          "output_type": "stream",
          "name": "stdout",
          "text": [
            "Estos son los integrantes del equipo Tigres\n",
            "['Patricia', 'Juana', 'Esmeralda']\n"
          ]
        }
      ]
    },
    {
      "cell_type": "code",
      "source": [
        "equipos[\"Bufalos\"]=[\"Tatiana\",\"Tomas\",\"Teresa\"]\n",
        "equipos"
      ],
      "metadata": {
        "id": "gocpodgVXCY9",
        "colab": {
          "base_uri": "https://localhost:8080/"
        },
        "outputId": "340436f1-7ffa-4f42-86fb-be6968de33aa"
      },
      "execution_count": null,
      "outputs": [
        {
          "output_type": "execute_result",
          "data": {
            "text/plain": [
              "{'Tigres': ['Patricia', 'Juana', 'Esmeralda'],\n",
              " 'Diablos': ['Jorge', 'Diana', 'Luis'],\n",
              " 'lobos': ['Alejandro', 'Paola', 'Yenny'],\n",
              " 'Bufalos': ['Tatiana', 'Tomas', 'Teresa']}"
            ]
          },
          "metadata": {},
          "execution_count": 14
        }
      ]
    },
    {
      "cell_type": "code",
      "source": [
        "equipos[\"Bufalos\"][1]"
      ],
      "metadata": {
        "id": "qdJsJWbFXL_Q",
        "colab": {
          "base_uri": "https://localhost:8080/",
          "height": 36
        },
        "outputId": "d8e86153-8576-4bf3-a2f0-4341425af654"
      },
      "execution_count": null,
      "outputs": [
        {
          "output_type": "execute_result",
          "data": {
            "text/plain": [
              "'Tomas'"
            ],
            "application/vnd.google.colaboratory.intrinsic+json": {
              "type": "string"
            }
          },
          "metadata": {},
          "execution_count": 15
        }
      ]
    }
  ]
}
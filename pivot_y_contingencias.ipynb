{
  "nbformat": 4,
  "nbformat_minor": 0,
  "metadata": {
    "colab": {
      "provenance": []
    },
    "kernelspec": {
      "name": "python3",
      "display_name": "Python 3"
    },
    "language_info": {
      "name": "python"
    }
  },
  "cells": [
    {
      "cell_type": "code",
      "source": [
        "import pandas as pd\n",
        "\n",
        "data = {\n",
        "    'fecha': ['2025-01', '2025-01', '2025-02', '2025-02'],\n",
        "    'producto': ['Coca-cola', 'Pepsi', 'Coca-cola', 'Pepsi'],\n",
        "    'ventas': [100, 150, 120, 170]\n",
        "}\n",
        "\n",
        "df = pd.DataFrame(data)\n",
        "df"
      ],
      "metadata": {
        "id": "QdmuAw3lubfw"
      },
      "execution_count": null,
      "outputs": []
    },
    {
      "cell_type": "code",
      "source": [
        "tabla = df.pivot(index='fecha', columns='producto', values='ventas')\n",
        "tabla\n"
      ],
      "metadata": {
        "id": "fHD0z49Zuqkz"
      },
      "execution_count": null,
      "outputs": []
    },
    {
      "cell_type": "code",
      "source": [
        "import pandas as pd\n",
        "\n",
        "data = {\n",
        "    'mes': ['Enero', 'Enero', 'Enero', 'Febrero', 'Febrero', 'Febrero'],\n",
        "    'producto': ['Coca-Cola', 'Coca-Cola', 'Pepsi', 'Coca-Cola', 'Coca-Cola', 'Pepsi'],\n",
        "    'tienda': ['Exito', 'Exito', 'Exito', 'Exito', 'Exito', 'Exito'],\n",
        "    'ventas': [100, 150, 200, 130, 170, 180]\n",
        "}\n",
        "\n",
        "df = pd.DataFrame(data)\n",
        "df"
      ],
      "metadata": {
        "id": "q8gD1IHivr9o"
      },
      "execution_count": null,
      "outputs": []
    },
    {
      "cell_type": "code",
      "source": [
        "df.pivot(index='mes', columns='producto', values='ventas')\n"
      ],
      "metadata": {
        "id": "d0jCn6MRwFPd"
      },
      "execution_count": null,
      "outputs": []
    },
    {
      "cell_type": "code",
      "source": [
        "tabla = df.pivot_table(\n",
        "    index='mes',\n",
        "    columns='producto',\n",
        "    values='ventas',\n",
        "    aggfunc='sum'  # También puede ser 'mean', 'count', etc.\n",
        ")\n",
        "tabla"
      ],
      "metadata": {
        "id": "j_jhhgZTwGxA"
      },
      "execution_count": null,
      "outputs": []
    },
    {
      "cell_type": "code",
      "source": [
        "import pandas as pd\n",
        "\n",
        "data = {\n",
        "    'genero': ['F', 'M', 'F', 'M', 'F', 'F', 'M', 'M'],\n",
        "    'compra': ['Sí', 'No', 'Sí', 'Sí', 'No', 'Sí', 'No', 'No']\n",
        "}\n",
        "\n",
        "df = pd.DataFrame(data)\n",
        "df"
      ],
      "metadata": {
        "id": "3rKcVidjv-wg"
      },
      "execution_count": null,
      "outputs": []
    },
    {
      "cell_type": "code",
      "source": [
        "contingencia=pd.crosstab(df['genero'],df['compra'])\n",
        "contingencia"
      ],
      "metadata": {
        "id": "jjc_r7VXx7F4"
      },
      "execution_count": null,
      "outputs": []
    },
    {
      "cell_type": "code",
      "source": [
        "import pandas as pd\n",
        "\n",
        "data = {\n",
        "    'genero': ['F', 'M', 'F', 'M', 'F', 'F', 'M', 'M'],\n",
        "    'compra': ['Sí', 'No', 'Sí', 'Sí', 'No', 'Sí', 'No', 'No'],\n",
        "    'edad_grupo': ['18-25', '18-25', '26-35', '26-35', '26-35', '18-25', '18-25', '26-35']\n",
        "}\n",
        "\n",
        "df = pd.DataFrame(data)\n",
        "df"
      ],
      "metadata": {
        "id": "-bKQr4HdzYhm"
      },
      "execution_count": null,
      "outputs": []
    },
    {
      "cell_type": "code",
      "source": [
        "tabla = pd.crosstab(\n",
        "    index=[df['genero'], df['edad_grupo']],\n",
        "    columns=df['compra'],\n",
        "    margins=True  # Para incluir totales\n",
        ")\n",
        "\n",
        "print(tabla)\n"
      ],
      "metadata": {
        "id": "FnozXpWSzjjt"
      },
      "execution_count": null,
      "outputs": []
    },
    {
      "cell_type": "markdown",
      "source": [],
      "metadata": {
        "id": "ARBSK5IVt0nV"
      }
    }
  ]
}
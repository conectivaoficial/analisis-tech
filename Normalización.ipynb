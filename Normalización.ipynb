{
  "nbformat": 4,
  "nbformat_minor": 0,
  "metadata": {
    "colab": {
      "provenance": []
    },
    "kernelspec": {
      "name": "python3",
      "display_name": "Python 3"
    },
    "language_info": {
      "name": "python"
    }
  },
  "cells": [
    {
      "cell_type": "markdown",
      "source": [
        "## **Cuándo Debes Normalizar los Datos**\n",
        "\n",
        "  *   Cuando las variables tienen diferentes escalas: Si tienes variables con unidades o rangos muy diferentes (por ejemplo, ingreso en dólares y edad en años), la normalización ayuda a que todos los valores estén en una escala común.\n",
        "\n",
        "  *   Cuando utilizas algoritmos sensibles a la escala: Algoritmos como las redes neuronales, el análisis de componentes principales (PCA), y K-means clustering se ven afectados por las diferencias de escala entre las variables. Estos algoritmos suelen beneficiarse de la normalización.\n",
        "  \n",
        "  *   Cuando usas distancias (por ejemplo, en K-NN): Los algoritmos basados en distancias, como K-NN, se ven muy afectados por la escala de las variables. Sin normalización, las variables con rangos más grandes dominarán la medida de distancia, lo que sesgaría el modelo. texto en negrita\n",
        "\n",
        "\n",
        "## **Cuándo NO Debes Normalizar los Datos**\n",
        "\n",
        "   \n",
        "\n",
        "*   Cuando los datos ya están en una escala similar: Si todas las variables ya tienen un rango similar, como las variables de puntajes estandarizados (por ejemplo, puntajes Z), entonces no es necesario normalizar.\n",
        "\n",
        "\n",
        "\n",
        " *   Cuando las relaciones entre las variables son más importantes que las magnitudes absolutas: Si las relaciones entre las variables son más importantes para el análisis que los valores absolutos (como en algunos casos de análisis de regresión), entonces la normalización no siempre es necesaria.\n",
        "\n",
        "*   Cuando estás utilizando árboles de decisión: Algoritmos basados en árboles de decisión (como Random Forest o XGBoost) no requieren normalización de los datos, ya que estos modelos no están influenciados por la escala de las variables. Los árboles de decisión se dividen según las características sin importar la magnitud de los valores."
      ],
      "metadata": {
        "id": "AgtLsbL4j6J7"
      }
    },
    {
      "cell_type": "code",
      "execution_count": 1,
      "metadata": {
        "colab": {
          "base_uri": "https://localhost:8080/"
        },
        "id": "-ohzo2mdhRdg",
        "outputId": "d01d1a18-e009-458d-8787-364faf7f16cb"
      },
      "outputs": [
        {
          "output_type": "stream",
          "name": "stdout",
          "text": [
            "   Edad  Ingreso Mensual  Horas de Ejercicio\n",
            "0    58             8215                   3\n",
            "1    48             3454                   2\n",
            "2    34             9996                   9\n",
            "3    27             3731                   2\n",
            "4    40             9154                   2\n"
          ]
        }
      ],
      "source": [
        "import numpy as np\n",
        "import pandas as pd\n",
        "import matplotlib.pyplot as plt\n",
        "from sklearn.preprocessing import MinMaxScaler, StandardScaler\n",
        "\n"
      ]
    },
    {
      "cell_type": "code",
      "source": [
        "url = 'https://raw.githubusercontent.com/conectivaoficial/analisis-tech/refs/heads/main/normalizaci%C3%B3n.csv'\n",
        "data=pd.read_csv(url, sep=\",\")\n",
        "data.head()"
      ],
      "metadata": {
        "colab": {
          "base_uri": "https://localhost:8080/",
          "height": 206
        },
        "id": "nMeqcVEumfTj",
        "outputId": "f9b66d41-29db-40f6-c12c-dc46711f385d"
      },
      "execution_count": 9,
      "outputs": [
        {
          "output_type": "execute_result",
          "data": {
            "text/plain": [
              "   Edad  Ingreso Mensual  Horas de Ejercicio\n",
              "0    58             8215                   3\n",
              "1    48             3454                   2\n",
              "2    34             9996                   9\n",
              "3    27             3731                   2\n",
              "4    40             9154                   2"
            ],
            "text/html": [
              "\n",
              "  <div id=\"df-5961c25f-adae-4914-b32f-daa6d692c255\" class=\"colab-df-container\">\n",
              "    <div>\n",
              "<style scoped>\n",
              "    .dataframe tbody tr th:only-of-type {\n",
              "        vertical-align: middle;\n",
              "    }\n",
              "\n",
              "    .dataframe tbody tr th {\n",
              "        vertical-align: top;\n",
              "    }\n",
              "\n",
              "    .dataframe thead th {\n",
              "        text-align: right;\n",
              "    }\n",
              "</style>\n",
              "<table border=\"1\" class=\"dataframe\">\n",
              "  <thead>\n",
              "    <tr style=\"text-align: right;\">\n",
              "      <th></th>\n",
              "      <th>Edad</th>\n",
              "      <th>Ingreso Mensual</th>\n",
              "      <th>Horas de Ejercicio</th>\n",
              "    </tr>\n",
              "  </thead>\n",
              "  <tbody>\n",
              "    <tr>\n",
              "      <th>0</th>\n",
              "      <td>58</td>\n",
              "      <td>8215</td>\n",
              "      <td>3</td>\n",
              "    </tr>\n",
              "    <tr>\n",
              "      <th>1</th>\n",
              "      <td>48</td>\n",
              "      <td>3454</td>\n",
              "      <td>2</td>\n",
              "    </tr>\n",
              "    <tr>\n",
              "      <th>2</th>\n",
              "      <td>34</td>\n",
              "      <td>9996</td>\n",
              "      <td>9</td>\n",
              "    </tr>\n",
              "    <tr>\n",
              "      <th>3</th>\n",
              "      <td>27</td>\n",
              "      <td>3731</td>\n",
              "      <td>2</td>\n",
              "    </tr>\n",
              "    <tr>\n",
              "      <th>4</th>\n",
              "      <td>40</td>\n",
              "      <td>9154</td>\n",
              "      <td>2</td>\n",
              "    </tr>\n",
              "  </tbody>\n",
              "</table>\n",
              "</div>\n",
              "    <div class=\"colab-df-buttons\">\n",
              "\n",
              "  <div class=\"colab-df-container\">\n",
              "    <button class=\"colab-df-convert\" onclick=\"convertToInteractive('df-5961c25f-adae-4914-b32f-daa6d692c255')\"\n",
              "            title=\"Convert this dataframe to an interactive table.\"\n",
              "            style=\"display:none;\">\n",
              "\n",
              "  <svg xmlns=\"http://www.w3.org/2000/svg\" height=\"24px\" viewBox=\"0 -960 960 960\">\n",
              "    <path d=\"M120-120v-720h720v720H120Zm60-500h600v-160H180v160Zm220 220h160v-160H400v160Zm0 220h160v-160H400v160ZM180-400h160v-160H180v160Zm440 0h160v-160H620v160ZM180-180h160v-160H180v160Zm440 0h160v-160H620v160Z\"/>\n",
              "  </svg>\n",
              "    </button>\n",
              "\n",
              "  <style>\n",
              "    .colab-df-container {\n",
              "      display:flex;\n",
              "      gap: 12px;\n",
              "    }\n",
              "\n",
              "    .colab-df-convert {\n",
              "      background-color: #E8F0FE;\n",
              "      border: none;\n",
              "      border-radius: 50%;\n",
              "      cursor: pointer;\n",
              "      display: none;\n",
              "      fill: #1967D2;\n",
              "      height: 32px;\n",
              "      padding: 0 0 0 0;\n",
              "      width: 32px;\n",
              "    }\n",
              "\n",
              "    .colab-df-convert:hover {\n",
              "      background-color: #E2EBFA;\n",
              "      box-shadow: 0px 1px 2px rgba(60, 64, 67, 0.3), 0px 1px 3px 1px rgba(60, 64, 67, 0.15);\n",
              "      fill: #174EA6;\n",
              "    }\n",
              "\n",
              "    .colab-df-buttons div {\n",
              "      margin-bottom: 4px;\n",
              "    }\n",
              "\n",
              "    [theme=dark] .colab-df-convert {\n",
              "      background-color: #3B4455;\n",
              "      fill: #D2E3FC;\n",
              "    }\n",
              "\n",
              "    [theme=dark] .colab-df-convert:hover {\n",
              "      background-color: #434B5C;\n",
              "      box-shadow: 0px 1px 3px 1px rgba(0, 0, 0, 0.15);\n",
              "      filter: drop-shadow(0px 1px 2px rgba(0, 0, 0, 0.3));\n",
              "      fill: #FFFFFF;\n",
              "    }\n",
              "  </style>\n",
              "\n",
              "    <script>\n",
              "      const buttonEl =\n",
              "        document.querySelector('#df-5961c25f-adae-4914-b32f-daa6d692c255 button.colab-df-convert');\n",
              "      buttonEl.style.display =\n",
              "        google.colab.kernel.accessAllowed ? 'block' : 'none';\n",
              "\n",
              "      async function convertToInteractive(key) {\n",
              "        const element = document.querySelector('#df-5961c25f-adae-4914-b32f-daa6d692c255');\n",
              "        const dataTable =\n",
              "          await google.colab.kernel.invokeFunction('convertToInteractive',\n",
              "                                                    [key], {});\n",
              "        if (!dataTable) return;\n",
              "\n",
              "        const docLinkHtml = 'Like what you see? Visit the ' +\n",
              "          '<a target=\"_blank\" href=https://colab.research.google.com/notebooks/data_table.ipynb>data table notebook</a>'\n",
              "          + ' to learn more about interactive tables.';\n",
              "        element.innerHTML = '';\n",
              "        dataTable['output_type'] = 'display_data';\n",
              "        await google.colab.output.renderOutput(dataTable, element);\n",
              "        const docLink = document.createElement('div');\n",
              "        docLink.innerHTML = docLinkHtml;\n",
              "        element.appendChild(docLink);\n",
              "      }\n",
              "    </script>\n",
              "  </div>\n",
              "\n",
              "\n",
              "<div id=\"df-14ed08f8-d449-466a-bc38-94da9f1ffcf0\">\n",
              "  <button class=\"colab-df-quickchart\" onclick=\"quickchart('df-14ed08f8-d449-466a-bc38-94da9f1ffcf0')\"\n",
              "            title=\"Suggest charts\"\n",
              "            style=\"display:none;\">\n",
              "\n",
              "<svg xmlns=\"http://www.w3.org/2000/svg\" height=\"24px\"viewBox=\"0 0 24 24\"\n",
              "     width=\"24px\">\n",
              "    <g>\n",
              "        <path d=\"M19 3H5c-1.1 0-2 .9-2 2v14c0 1.1.9 2 2 2h14c1.1 0 2-.9 2-2V5c0-1.1-.9-2-2-2zM9 17H7v-7h2v7zm4 0h-2V7h2v10zm4 0h-2v-4h2v4z\"/>\n",
              "    </g>\n",
              "</svg>\n",
              "  </button>\n",
              "\n",
              "<style>\n",
              "  .colab-df-quickchart {\n",
              "      --bg-color: #E8F0FE;\n",
              "      --fill-color: #1967D2;\n",
              "      --hover-bg-color: #E2EBFA;\n",
              "      --hover-fill-color: #174EA6;\n",
              "      --disabled-fill-color: #AAA;\n",
              "      --disabled-bg-color: #DDD;\n",
              "  }\n",
              "\n",
              "  [theme=dark] .colab-df-quickchart {\n",
              "      --bg-color: #3B4455;\n",
              "      --fill-color: #D2E3FC;\n",
              "      --hover-bg-color: #434B5C;\n",
              "      --hover-fill-color: #FFFFFF;\n",
              "      --disabled-bg-color: #3B4455;\n",
              "      --disabled-fill-color: #666;\n",
              "  }\n",
              "\n",
              "  .colab-df-quickchart {\n",
              "    background-color: var(--bg-color);\n",
              "    border: none;\n",
              "    border-radius: 50%;\n",
              "    cursor: pointer;\n",
              "    display: none;\n",
              "    fill: var(--fill-color);\n",
              "    height: 32px;\n",
              "    padding: 0;\n",
              "    width: 32px;\n",
              "  }\n",
              "\n",
              "  .colab-df-quickchart:hover {\n",
              "    background-color: var(--hover-bg-color);\n",
              "    box-shadow: 0 1px 2px rgba(60, 64, 67, 0.3), 0 1px 3px 1px rgba(60, 64, 67, 0.15);\n",
              "    fill: var(--button-hover-fill-color);\n",
              "  }\n",
              "\n",
              "  .colab-df-quickchart-complete:disabled,\n",
              "  .colab-df-quickchart-complete:disabled:hover {\n",
              "    background-color: var(--disabled-bg-color);\n",
              "    fill: var(--disabled-fill-color);\n",
              "    box-shadow: none;\n",
              "  }\n",
              "\n",
              "  .colab-df-spinner {\n",
              "    border: 2px solid var(--fill-color);\n",
              "    border-color: transparent;\n",
              "    border-bottom-color: var(--fill-color);\n",
              "    animation:\n",
              "      spin 1s steps(1) infinite;\n",
              "  }\n",
              "\n",
              "  @keyframes spin {\n",
              "    0% {\n",
              "      border-color: transparent;\n",
              "      border-bottom-color: var(--fill-color);\n",
              "      border-left-color: var(--fill-color);\n",
              "    }\n",
              "    20% {\n",
              "      border-color: transparent;\n",
              "      border-left-color: var(--fill-color);\n",
              "      border-top-color: var(--fill-color);\n",
              "    }\n",
              "    30% {\n",
              "      border-color: transparent;\n",
              "      border-left-color: var(--fill-color);\n",
              "      border-top-color: var(--fill-color);\n",
              "      border-right-color: var(--fill-color);\n",
              "    }\n",
              "    40% {\n",
              "      border-color: transparent;\n",
              "      border-right-color: var(--fill-color);\n",
              "      border-top-color: var(--fill-color);\n",
              "    }\n",
              "    60% {\n",
              "      border-color: transparent;\n",
              "      border-right-color: var(--fill-color);\n",
              "    }\n",
              "    80% {\n",
              "      border-color: transparent;\n",
              "      border-right-color: var(--fill-color);\n",
              "      border-bottom-color: var(--fill-color);\n",
              "    }\n",
              "    90% {\n",
              "      border-color: transparent;\n",
              "      border-bottom-color: var(--fill-color);\n",
              "    }\n",
              "  }\n",
              "</style>\n",
              "\n",
              "  <script>\n",
              "    async function quickchart(key) {\n",
              "      const quickchartButtonEl =\n",
              "        document.querySelector('#' + key + ' button');\n",
              "      quickchartButtonEl.disabled = true;  // To prevent multiple clicks.\n",
              "      quickchartButtonEl.classList.add('colab-df-spinner');\n",
              "      try {\n",
              "        const charts = await google.colab.kernel.invokeFunction(\n",
              "            'suggestCharts', [key], {});\n",
              "      } catch (error) {\n",
              "        console.error('Error during call to suggestCharts:', error);\n",
              "      }\n",
              "      quickchartButtonEl.classList.remove('colab-df-spinner');\n",
              "      quickchartButtonEl.classList.add('colab-df-quickchart-complete');\n",
              "    }\n",
              "    (() => {\n",
              "      let quickchartButtonEl =\n",
              "        document.querySelector('#df-14ed08f8-d449-466a-bc38-94da9f1ffcf0 button');\n",
              "      quickchartButtonEl.style.display =\n",
              "        google.colab.kernel.accessAllowed ? 'block' : 'none';\n",
              "    })();\n",
              "  </script>\n",
              "</div>\n",
              "\n",
              "    </div>\n",
              "  </div>\n"
            ],
            "application/vnd.google.colaboratory.intrinsic+json": {
              "type": "dataframe",
              "variable_name": "data",
              "summary": "{\n  \"name\": \"data\",\n  \"rows\": 100,\n  \"fields\": [\n    {\n      \"column\": \"Edad\",\n      \"properties\": {\n        \"dtype\": \"number\",\n        \"std\": 11,\n        \"min\": 20,\n        \"max\": 59,\n        \"num_unique_values\": 38,\n        \"samples\": [\n          53,\n          20,\n          40\n        ],\n        \"semantic_type\": \"\",\n        \"description\": \"\"\n      }\n    },\n    {\n      \"column\": \"Ingreso Mensual\",\n      \"properties\": {\n        \"dtype\": \"number\",\n        \"std\": 2560,\n        \"min\": 1197,\n        \"max\": 9996,\n        \"num_unique_values\": 99,\n        \"samples\": [\n          2291,\n          6450,\n          3511\n        ],\n        \"semantic_type\": \"\",\n        \"description\": \"\"\n      }\n    },\n    {\n      \"column\": \"Horas de Ejercicio\",\n      \"properties\": {\n        \"dtype\": \"number\",\n        \"std\": 3,\n        \"min\": 0,\n        \"max\": 10,\n        \"num_unique_values\": 11,\n        \"samples\": [\n          0,\n          3,\n          4\n        ],\n        \"semantic_type\": \"\",\n        \"description\": \"\"\n      }\n    }\n  ]\n}"
            }
          },
          "metadata": {},
          "execution_count": 9
        }
      ]
    },
    {
      "cell_type": "code",
      "source": [
        "# Visualización de las distribuciones de las variables originales\n",
        "data.hist(bins=10, figsize=(10, 8))\n",
        "plt.tight_layout()\n",
        "plt.show()\n"
      ],
      "metadata": {
        "colab": {
          "base_uri": "https://localhost:8080/",
          "height": 807
        },
        "id": "qQk3b4puhmR4",
        "outputId": "1254e9e3-c6f5-4148-da79-21229fbe57e1"
      },
      "execution_count": 4,
      "outputs": [
        {
          "output_type": "display_data",
          "data": {
            "text/plain": [
              "<Figure size 1000x800 with 4 Axes>"
            ],
            "image/png": "[encoded data removed]"
          },
          "metadata": {}
        }
      ]
    },
    {
      "cell_type": "markdown",
      "source": [
        "Min-Max Scaling: Los valores estarán restringidos al rango [0, 1]. Esto puede ser útil cuando trabajas con algoritmos que son sensibles al rango de los datos, como las redes neuronales o el análisis de componentes principales (PCA)."
      ],
      "metadata": {
        "id": "hMoAXwTciNVp"
      }
    },
    {
      "cell_type": "code",
      "source": [
        "# Aplicar Min-Max Scaling\n",
        "scaler_min_max = MinMaxScaler()\n",
        "\n",
        "# Normalizamos las columnas\n",
        "data_normalizada_min_max = data.copy()\n",
        "data_normalizada_min_max[['Edad', 'Ingreso Mensual', 'Horas de Ejercicio']] = scaler_min_max.fit_transform(data[['Edad', 'Ingreso Mensual', 'Horas de Ejercicio']])\n",
        "\n",
        "# Ver los primeros datos normalizados\n",
        "print(data_normalizada_min_max.head())\n"
      ],
      "metadata": {
        "colab": {
          "base_uri": "https://localhost:8080/"
        },
        "id": "v03pnVcJh6E4",
        "outputId": "71130a29-cf48-4ae3-eb0f-6e18aeb27b9d"
      },
      "execution_count": 5,
      "outputs": [
        {
          "output_type": "stream",
          "name": "stdout",
          "text": [
            "       Edad  Ingreso Mensual  Horas de Ejercicio\n",
            "0  0.974359         0.797591                 0.3\n",
            "1  0.717949         0.256506                 0.2\n",
            "2  0.358974         1.000000                 0.9\n",
            "3  0.179487         0.287987                 0.2\n",
            "4  0.512821         0.904307                 0.2\n"
          ]
        }
      ]
    },
    {
      "cell_type": "markdown",
      "source": [
        "Z-Score Standardization: Los valores estarán distribuidos alrededor de 0, con una desviación estándar de 1. Esto es útil para algoritmos como la regresión logística o SVM, que asumen que los datos tienen una distribución normal y funcionan mejor con datos estandarizados."
      ],
      "metadata": {
        "id": "ksYK4Gb_jbdT"
      }
    },
    {
      "cell_type": "code",
      "source": [
        "# Aplicar Z-Score Standardization\n",
        "scaler_standard = StandardScaler()\n",
        "\n",
        "# Estandarizamos las columnas\n",
        "data_estandarizada = data.copy()\n",
        "data_estandarizada[['Edad', 'Ingreso Mensual', 'Horas de Ejercicio']] = scaler_standard.fit_transform(data[['Edad', 'Ingreso Mensual', 'Horas de Ejercicio']])\n",
        "\n",
        "# Ver los primeros datos estandarizados\n",
        "print(data_estandarizada.head())\n"
      ],
      "metadata": {
        "colab": {
          "base_uri": "https://localhost:8080/"
        },
        "id": "hZ9s29NeiCKp",
        "outputId": "f4c15b78-ae6a-4ac8-e1d9-d491e57e3c0e"
      },
      "execution_count": 6,
      "outputs": [
        {
          "output_type": "stream",
          "name": "stdout",
          "text": [
            "       Edad  Ingreso Mensual  Horas de Ejercicio\n",
            "0  1.670713         0.988160           -0.402100\n",
            "1  0.801003        -0.880499           -0.729011\n",
            "2 -0.416591         1.687190            1.559365\n",
            "3 -1.025388        -0.771778           -0.729011\n",
            "4  0.105235         1.356711           -0.729011\n"
          ]
        }
      ]
    },
    {
      "cell_type": "code",
      "source": [
        "# Visualización de las distribuciones después de la normalización\n",
        "data_normalizada_min_max.hist(bins=10, figsize=(10, 8))\n",
        "plt.tight_layout()\n",
        "plt.show()\n"
      ],
      "metadata": {
        "colab": {
          "base_uri": "https://localhost:8080/",
          "height": 807
        },
        "id": "-TyCoE1bjkHW",
        "outputId": "17b70ed2-2aac-4160-8dd8-fab9ea2f7a4e"
      },
      "execution_count": 7,
      "outputs": [
        {
          "output_type": "display_data",
          "data": {
            "text/plain": [
              "<Figure size 1000x800 with 4 Axes>"
            ],
            "image/png": "[encoded data removed]"
          },
          "metadata": {}
        }
      ]
    }
  ]
}
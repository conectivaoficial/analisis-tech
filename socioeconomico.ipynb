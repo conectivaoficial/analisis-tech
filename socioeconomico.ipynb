{
  "cells": [
    {
      "cell_type": "code",
      "source": [
        "import kagglehub\n",
        "from kagglehub import KaggleDatasetAdapter\n",
        "\n",
        "file_path = \"sgdata.csv\"\n",
        "\n",
        "df = kagglehub.load_dataset(\n",
        "  KaggleDatasetAdapter.PANDAS,\n",
        "  \"aldol07/socioeconomic-factors-and-income-dataset\",\n",
        "  file_path,\n",
        ")\n",
        "\n",
        "print(\"First 5 records:\", df.head())"
      ],
      "metadata": {
        "id": "VrSnVL6e8MUb",
        "outputId": "bd1df38d-8bec-46d9-c3a0-0220fedda1ca",
        "colab": {
          "base_uri": "https://localhost:8080/"
        }
      },
      "execution_count": 1,
      "outputs": [
        {
          "output_type": "stream",
          "name": "stderr",
          "text": [
            "<ipython-input-1-e781481cf652>:10: DeprecationWarning: load_dataset is deprecated and will be removed in future version.\n",
            "  df = kagglehub.load_dataset(\n"
          ]
        },
        {
          "output_type": "stream",
          "name": "stdout",
          "text": [
            "First 5 records:           ID  Sex                                     Marital status  Age  \\\n",
            "0  100000001    0                                             single   67   \n",
            "1  100000002    1  non-single (divorced / separated / married / w...   22   \n",
            "2  100000003    0                                             single   49   \n",
            "3  100000004    0                                             single   45   \n",
            "4  100000005    0                                             single   53   \n",
            "\n",
            "     Education  Income                   Occupation  Settlement size  \n",
            "0   university  124670  skilled employee / official                2  \n",
            "1  high school  150773  skilled employee / official                2  \n",
            "2  high school   89210       unemployed / unskilled                0  \n",
            "3  high school  171565  skilled employee / official                1  \n",
            "4  high school  149031  skilled employee / official                1  \n"
          ]
        }
      ]
    }
  ],
  "metadata": {
    "colab": {
      "toc_visible": true,
      "provenance": []
    },
    "kernelspec": {
      "display_name": "Python 3",
      "name": "python3"
    }
  },
  "nbformat": 4,
  "nbformat_minor": 0
}
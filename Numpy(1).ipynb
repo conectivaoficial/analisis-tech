{
  "nbformat": 4,
  "nbformat_minor": 0,
  "metadata": {
    "colab": {
      "provenance": []
    },
    "kernelspec": {
      "name": "python3",
      "display_name": "Python 3"
    },
    "language_info": {
      "name": "python"
    }
  },
  "cells": [
    {
      "cell_type": "markdown",
      "source": [
        "## **Introducción a NumPy:**\n",
        "\n",
        "NumPy (Numerical Python) es una librería de Python que se utiliza ampliamente en el procesamiento numérico y científico de datos. Proporciona una estructura de datos llamada \"array\" (arreglo) que es eficiente en términos de almacenamiento y cómputo, y ofrece una amplia gama de funciones para trabajar con estos arreglos. A continuación, exploraremos los conceptos clave relacionados con NumPy.\n",
        "\n",
        "### **¿Qué es NumPy?**\n",
        "\n",
        "NumPy es una librería de código abierto en Python que se utiliza para realizar operaciones matemáticas y lógicas en arreglos multidimensionales o matrices. Está diseñada para trabajar con datos numéricos y es ampliamente utilizada en el ámbito de la ciencia de datos, la ingeniería y la computación científica debido a su eficiencia y facilidad de uso.\n",
        "\n",
        "### **Creación de arrays NumPy:**\n",
        "\n",
        "NumPy permite crear arrays multidimensionales de manera eficiente. Puedes crear arrays NumPy utilizando listas de Python o mediante funciones específicas de NumPy.\n",
        "\n",
        "Ejemplo de creación de un array NumPy:"
      ],
      "metadata": {
        "id": "q7O0JQ0k850M"
      }
    },
    {
      "cell_type": "code",
      "source": [
        "lista=[2,5,9,7,3,4,6]\n",
        "lista"
      ],
      "metadata": {
        "outputId": "51e54c32-4492-43f5-d3ee-20e6c9f6dbc7",
        "colab": {
          "base_uri": "https://localhost:8080/"
        },
        "id": "lkiltdn5HjdH"
      },
      "execution_count": null,
      "outputs": [
        {
          "output_type": "execute_result",
          "data": {
            "text/plain": [
              "[2, 5, 9, 7, 3, 4, 6]"
            ]
          },
          "metadata": {},
          "execution_count": 14
        }
      ]
    },
    {
      "cell_type": "code",
      "source": [
        "import numpy as np\n",
        "#crear un arreglo\n",
        "mi_array=np.array([2,5,9,7,3,4,6])\n",
        "print(mi_array)"
      ],
      "metadata": {
        "id": "7A1gUtJ9G4Aq",
        "colab": {
          "base_uri": "https://localhost:8080/"
        },
        "outputId": "874b51ac-b327-462a-bbe1-facc17a71053"
      },
      "execution_count": null,
      "outputs": [
        {
          "output_type": "stream",
          "name": "stdout",
          "text": [
            "[2 5 9 7 3 4 6]\n"
          ]
        }
      ]
    },
    {
      "cell_type": "code",
      "source": [
        "lista2=[1,2,3,4,5,6,7]\n",
        "mi_array2=np.array(lista2)\n",
        "print(mi_array2)"
      ],
      "metadata": {
        "colab": {
          "base_uri": "https://localhost:8080/"
        },
        "id": "PvL4EAMDvtOt",
        "outputId": "4769ff6d-8714-4cf5-d282-e85b86afe205"
      },
      "execution_count": null,
      "outputs": [
        {
          "output_type": "stream",
          "name": "stdout",
          "text": [
            "[1 2 3 4 5 6 7]\n"
          ]
        }
      ]
    },
    {
      "cell_type": "markdown",
      "source": [
        "### **Operaciones básicas con arrays NumPy:**\n",
        "\n",
        "NumPy proporciona numerosas operaciones matemáticas y aritméticas que se pueden realizar en arrays, incluyendo suma, resta, multiplicación y división, tanto elemento por elemento como a nivel de matriz.\n",
        "\n",
        "Ejemplo de operaciones básicas con arrays NumPy:"
      ],
      "metadata": {
        "id": "j0BkAYSU9KX5"
      }
    },
    {
      "cell_type": "code",
      "execution_count": null,
      "metadata": {
        "id": "xJAry0go84kN",
        "colab": {
          "base_uri": "https://localhost:8080/"
        },
        "outputId": "c1c4604b-33ca-4de1-daac-7a521799972e"
      },
      "outputs": [
        {
          "output_type": "execute_result",
          "data": {
            "text/plain": [
              "[2, 5, 9, 7, 3, 4, 6, 2, 5, 9, 7, 3, 4, 6]"
            ]
          },
          "metadata": {},
          "execution_count": 15
        }
      ],
      "source": [
        "lista*2"
      ]
    },
    {
      "cell_type": "code",
      "source": [
        "mi_array*2"
      ],
      "metadata": {
        "colab": {
          "base_uri": "https://localhost:8080/"
        },
        "id": "YNQ5dELPH7Wd",
        "outputId": "788b80d7-101a-4861-fe46-2e2aefd92248"
      },
      "execution_count": null,
      "outputs": [
        {
          "output_type": "execute_result",
          "data": {
            "text/plain": [
              "array([ 4, 10, 18, 14,  6,  8, 12])"
            ]
          },
          "metadata": {},
          "execution_count": 16
        }
      ]
    },
    {
      "cell_type": "code",
      "source": [
        "#Suma de arreglos\n",
        "array1=np.array([1,2,3])\n",
        "array2=np.array([9,8,7])\n",
        "\n",
        "suma=array1+array2\n",
        "suma"
      ],
      "metadata": {
        "colab": {
          "base_uri": "https://localhost:8080/"
        },
        "id": "9eie4vN5IGfM",
        "outputId": "d38d3427-bfd1-44d7-e9f1-8f52ce3837ad"
      },
      "execution_count": null,
      "outputs": [
        {
          "output_type": "execute_result",
          "data": {
            "text/plain": [
              "array([10, 10, 10])"
            ]
          },
          "metadata": {},
          "execution_count": 20
        }
      ]
    },
    {
      "cell_type": "code",
      "source": [
        "producto=array1*array2\n",
        "producto"
      ],
      "metadata": {
        "colab": {
          "base_uri": "https://localhost:8080/"
        },
        "id": "F0935rpDIY-0",
        "outputId": "8c17322b-b86c-431d-b535-a6c0512243b0"
      },
      "execution_count": null,
      "outputs": [
        {
          "output_type": "execute_result",
          "data": {
            "text/plain": [
              "array([ 9, 16, 21])"
            ]
          },
          "metadata": {},
          "execution_count": 21
        }
      ]
    },
    {
      "cell_type": "markdown",
      "source": [
        "### **Indexación y slicing en arrays NumPy:**\n",
        "\n",
        "Puedes acceder a elementos individuales de un array NumPy utilizando la indexación, y también puedes realizar \"slicing\" para seleccionar subconjuntos de elementos.\n",
        "\n",
        "Ejemplo de indexación y slicing en un array NumPy:"
      ],
      "metadata": {
        "id": "86Y0QqRM9O_3"
      }
    },
    {
      "cell_type": "code",
      "source": [
        "#indexacion\n",
        "\n",
        "array3=np.array([0,1,2,3,4,6,7,])\n",
        "print(\"mi elemento en la posicion 2: \", array3[1] )"
      ],
      "metadata": {
        "id": "UgIq8Tn19QVg",
        "colab": {
          "base_uri": "https://localhost:8080/"
        },
        "outputId": "10ad1bc2-e872-4ae5-a76e-fdd6ac175164"
      },
      "execution_count": null,
      "outputs": [
        {
          "output_type": "stream",
          "name": "stdout",
          "text": [
            "mi elemento en la posicion 2:  1\n"
          ]
        }
      ]
    },
    {
      "cell_type": "code",
      "source": [
        "#slicing\n",
        "sub_array=array3[1:4]\n",
        "print(sub_array)"
      ],
      "metadata": {
        "colab": {
          "base_uri": "https://localhost:8080/"
        },
        "id": "GRk_c97OJCkR",
        "outputId": "67c45ab0-ad65-4cb8-8523-a9d4224d0059"
      },
      "execution_count": null,
      "outputs": [
        {
          "output_type": "stream",
          "name": "stdout",
          "text": [
            "[1 2 3]\n"
          ]
        }
      ]
    },
    {
      "cell_type": "markdown",
      "source": [
        "### **Ejemplos de operaciones matriciales con NumPy:**\n",
        "\n",
        "NumPy es especialmente poderoso cuando se trata de operaciones matriciales. Puedes realizar multiplicación de matrices, transposición, cálculos de determinantes y mucho más de manera eficiente.\n",
        "\n",
        "Ejemplo de multiplicación de matrices con NumPy:"
      ],
      "metadata": {
        "id": "iOUsRevT9Tkw"
      }
    },
    {
      "cell_type": "code",
      "source": [
        "matriz1=np.array([[1,2],[3,4]])\n",
        "print(matriz1)"
      ],
      "metadata": {
        "id": "imRA7sWl9U0U",
        "colab": {
          "base_uri": "https://localhost:8080/"
        },
        "outputId": "e3b56d64-9879-4de1-d457-54e741a82244"
      },
      "execution_count": null,
      "outputs": [
        {
          "output_type": "stream",
          "name": "stdout",
          "text": [
            "[[1 2]\n",
            " [3 4]]\n"
          ]
        }
      ]
    },
    {
      "cell_type": "code",
      "source": [
        "matriz2=np.array([[5,6],[7,8]])\n",
        "print(matriz2)"
      ],
      "metadata": {
        "colab": {
          "base_uri": "https://localhost:8080/"
        },
        "id": "mbdgQX1pJ3oP",
        "outputId": "eb8fc284-81b9-4c56-c230-7882f283b5b5"
      },
      "execution_count": null,
      "outputs": [
        {
          "output_type": "stream",
          "name": "stdout",
          "text": [
            "[[5 6]\n",
            " [7 8]]\n"
          ]
        }
      ]
    },
    {
      "cell_type": "code",
      "source": [
        "#multiplicacion de matrices\n",
        "resultado=np.dot(matriz1,matriz2)\n",
        "resultado"
      ],
      "metadata": {
        "colab": {
          "base_uri": "https://localhost:8080/"
        },
        "id": "Dv2kVvHbKFW5",
        "outputId": "bac3bf74-f479-4933-c727-b065e80d97bb"
      },
      "execution_count": null,
      "outputs": [
        {
          "output_type": "execute_result",
          "data": {
            "text/plain": [
              "array([[19, 22],\n",
              "       [43, 50]])"
            ]
          },
          "metadata": {},
          "execution_count": 35
        }
      ]
    },
    {
      "cell_type": "markdown",
      "source": [
        "### **Problema: Cálculo de Estadísticas en Datos de Ventas**\n",
        "\n",
        "Supongamos que tienes un conjunto de datos de ventas de productos en una tienda durante varios meses. Cada fila del conjunto de datos representa una venta y contiene información sobre el producto vendido, la cantidad vendida y el precio unitario. Tu objetivo es realizar algunas estadísticas básicas en estos datos utilizando NumPy."
      ],
      "metadata": {
        "id": "1Hjt8Sy59hFZ"
      }
    },
    {
      "cell_type": "code",
      "source": [
        "#datos de venta (producto, cantidad, precio unitario)\n",
        "ventas=np.array([\n",
        "    [\"Shampoo\", 100, 24000],\n",
        "    [\"Crema de manos\", 50, 13000],\n",
        "    [\"Jabón\", 75, 6000],\n",
        "    [\"Cera para el cabello\", 120, 18000],\n",
        "    [\"Protector solar\", 60, 82000]\n",
        "])\n",
        "\n",
        "#calcular el total de ventas para cada producto\n",
        "total_ventas= ventas[:,1].astype(float)* ventas[:,2].astype(float)\n",
        "\n",
        "#calcular el total de ventas en general\n",
        "total_ventas_general=np.sum(total_ventas)\n",
        "\n",
        "#calcular el producto mas vendido\n",
        "producto_mas_vendida=ventas[np.argmax(ventas[:,1].astype(int)),0]\n",
        "\n",
        "#calcular valor pomedio por producto\n",
        "precio_promedio_por_productos=np.mean(ventas[:,2].astype(float))\n",
        "\n",
        "#imprimir resultados\n",
        "print(\"Total de ventas por producto: \")\n",
        "print(total_ventas)\n",
        "print(\"\\nTotal de ventas en general: \", total_ventas_general)\n",
        "print(\"\\nProducto mas vendido: \", producto_mas_vendida)\n",
        "print(\"\\nPrecio promedio por producto: \", precio_promedio_por_productos)"
      ],
      "metadata": {
        "id": "7fZRFcqd9iRB",
        "colab": {
          "base_uri": "https://localhost:8080/"
        },
        "outputId": "82842c12-9192-48cb-ca17-43b893e81da9"
      },
      "execution_count": null,
      "outputs": [
        {
          "output_type": "stream",
          "name": "stdout",
          "text": [
            "Total de ventas por producto: \n",
            "[2400000.  650000.  450000. 2160000. 4920000.]\n",
            "\n",
            "Total de ventas en general:  10580000.0\n",
            "\n",
            "Producto mas vendido:  Cera para el cabello\n",
            "\n",
            "Precio promedio por producto:  28600.0\n"
          ]
        }
      ]
    },
    {
      "cell_type": "code",
      "source": [
        "# Para matrices con numpy\n",
        "# [fila,columna]\n",
        "# [:, 0]:\n",
        "    # El : selecciona todas las filas.\n",
        "    # El 0 selecciona la primera columna.\n",
        "\n",
        "# [1, :]:\n",
        "\n",
        "    # El 1 selecciona la segunda fila (recuerda que los índices empiezan en 0).\n",
        "    # El : selecciona todas las columnas de esa fila."
      ],
      "metadata": {
        "id": "EUJZreGSBia_"
      },
      "execution_count": null,
      "outputs": []
    }
  ]
}
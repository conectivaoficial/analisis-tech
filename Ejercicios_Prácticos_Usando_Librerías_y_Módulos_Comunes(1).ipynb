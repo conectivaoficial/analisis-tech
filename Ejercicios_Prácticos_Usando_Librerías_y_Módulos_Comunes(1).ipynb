{
  "nbformat": 4,
  "nbformat_minor": 0,
  "metadata": {
    "colab": {
      "provenance": []
    },
    "kernelspec": {
      "name": "python3",
      "display_name": "Python 3"
    },
    "language_info": {
      "name": "python"
    }
  },
  "cells": [
    {
      "cell_type": "markdown",
      "source": [
        "# Ejercicios Prácticos Usando Librerías y Módulos Comunes\n",
        "\n",
        "## Ejercicio 1: Manejo de Fechas y Tiempos con datetime\n",
        "**Objetivo**: Calcular la diferencia en días entre dos fechas y determinar el día de la semana de una fecha específica.\n",
        "\n",
        "### Instrucciones:\n",
        "1. Importa el módulo `datetime`.\n",
        "2. Calcula la diferencia en días entre dos fechas dadas.\n",
        "3. Determina el día de la semana de una fecha específica.\n",
        "\n",
        "\n",
        "https://docs.python.org/3/library/datetime.html#datetime-objects"
      ],
      "metadata": {
        "id": "t3PLluFWHRXJ"
      }
    },
    {
      "cell_type": "code",
      "source": [
        "import datetime  ## Llamamos la libreria datetime, para realizar operaciones con fechas\n",
        "\n",
        "# Fecha 1: 15 de julio de 2024\n",
        "fecha1 = datetime.date(2024, 7, 15)\n",
        "\n",
        "# Fecha 2: 3 de agosto de 2024\n",
        "fecha2 = datetime.date(2024, 8, 3)\n",
        "\n",
        "# Calcula la diferencia en días\n",
        "diferencia = fecha2 - fecha1\n",
        "print(f\"Diferencia en días: {diferencia.days}\")"
      ],
      "metadata": {
        "id": "XMpPKc88HfY2",
        "colab": {
          "base_uri": "https://localhost:8080/"
        },
        "outputId": "a90b4cb0-3fa1-4ad1-c289-c2454835f6c6"
      },
      "execution_count": null,
      "outputs": [
        {
          "output_type": "stream",
          "name": "stdout",
          "text": [
            "Diferencia en días: 19\n"
          ]
        }
      ]
    },
    {
      "cell_type": "code",
      "source": [
        "type(diferencia)"
      ],
      "metadata": {
        "colab": {
          "base_uri": "https://localhost:8080/"
        },
        "id": "zMLnbItCHwFM",
        "outputId": "f0add6f8-5619-4bc4-d55d-0c306c39ae81"
      },
      "execution_count": null,
      "outputs": [
        {
          "output_type": "execute_result",
          "data": {
            "text/plain": [
              "datetime.timedelta"
            ]
          },
          "metadata": {},
          "execution_count": 22
        }
      ]
    },
    {
      "cell_type": "code",
      "source": [
        "# Fecha 1: 15 de julio de 2024\n",
        "fecha1 = datetime.date(2022, 7, 15)\n",
        "\n",
        "# Fecha 2: 3 de agosto de 2024\n",
        "fecha2 = datetime.date(2024, 8, 3)\n",
        "\n",
        "# Calcula la diferencia en días\n",
        "diferencia = fecha1 - fecha2\n",
        "print(f\"Diferencia en días: {diferencia.days}\")"
      ],
      "metadata": {
        "colab": {
          "base_uri": "https://localhost:8080/"
        },
        "id": "0iA5K0sEHV75",
        "outputId": "63ded636-e7ca-42e7-adc7-513d584dd0bc"
      },
      "execution_count": null,
      "outputs": [
        {
          "output_type": "stream",
          "name": "stdout",
          "text": [
            "Diferencia en días: -750\n"
          ]
        }
      ]
    },
    {
      "cell_type": "code",
      "source": [
        "# Determina el día de la semana de la fecha 1\n",
        "dia_semana = fecha1.strftime(\"%m\")\n",
        "print(f\"El día de la semana de la fecha 1 es: {dia_semana}\")"
      ],
      "metadata": {
        "colab": {
          "base_uri": "https://localhost:8080/"
        },
        "id": "iDLH09r4Dskq",
        "outputId": "9457db5d-6c57-4838-ab16-4f2c88b54790"
      },
      "execution_count": null,
      "outputs": [
        {
          "output_type": "stream",
          "name": "stdout",
          "text": [
            "El día de la semana de la fecha 1 es: 07\n"
          ]
        }
      ]
    },
    {
      "cell_type": "code",
      "source": [
        "# Determina el día de la semana de la fecha 1\n",
        "dia_semana = fecha1.strftime(\"%D\")\n",
        "print(f\"El día de la semana de la fecha 1 es: {dia_semana}\")\n",
        "\n",
        "## %Y año\n",
        "## %m mes en numero\n",
        "## %D muestra la fecha completa (DD/MM/AA)\n",
        "## %A muestra el dia en ingles en letras\n",
        "## %a muestra el dia en ingles, pero las tres primeras letras"
      ],
      "metadata": {
        "colab": {
          "base_uri": "https://localhost:8080/"
        },
        "id": "SZC4u8obI95A",
        "outputId": "6cbf0956-df99-43ea-dcc0-616e6d5fc4c9"
      },
      "execution_count": null,
      "outputs": [
        {
          "output_type": "stream",
          "name": "stdout",
          "text": [
            "El día de la semana de la fecha 1 es: 07/15/22\n"
          ]
        }
      ]
    },
    {
      "cell_type": "code",
      "source": [
        "# Determina el día de la semana en el cual nacio cada persona\n",
        "fecha_nacimiento = datetime.date(1985, 12, 15)\n",
        "dia_semana = fecha_nacimiento.strftime(\"%A\")\n",
        "print(f\"El día de la semana en el cual nacio la persona es: {dia_semana}\")\n",
        "\n",
        "## %Y año completo AAAA\n",
        "## %y dos ultimos digitos AA\n",
        "## %B el nombre del mes\n",
        "## %b el nombre del mes abreviado\n",
        "## %m el mes en numero\n",
        "## %D muestra la fecha completa DD/MM/AAAA\n",
        "## %d dia del mes en numero\n",
        "## %A muestra el dia en ingles en letras\n",
        "## %a muestra el dia en ingles, solo las tres primeras letras"
      ],
      "metadata": {
        "colab": {
          "base_uri": "https://localhost:8080/"
        },
        "id": "eIHsk5-6Km3d",
        "outputId": "0f6b103d-0161-429e-9bc4-6659621b3885"
      },
      "execution_count": null,
      "outputs": [
        {
          "output_type": "stream",
          "name": "stdout",
          "text": [
            "El día de la semana en el cual nacio la persona es: Sunday\n"
          ]
        }
      ]
    },
    {
      "cell_type": "code",
      "source": [
        "dia_semana"
      ],
      "metadata": {
        "colab": {
          "base_uri": "https://localhost:8080/",
          "height": 35
        },
        "id": "2z5GWNiuNud4",
        "outputId": "aeb9678a-ddd6-4e04-cfaa-4077cf622013"
      },
      "execution_count": null,
      "outputs": [
        {
          "output_type": "execute_result",
          "data": {
            "text/plain": [
              "'Sunday'"
            ],
            "application/vnd.google.colaboratory.intrinsic+json": {
              "type": "string"
            }
          },
          "metadata": {},
          "execution_count": 69
        }
      ]
    },
    {
      "cell_type": "markdown",
      "source": [
        "Tenemos todos los dias de la semana en ingles, vamos a crear un algoritmo que nos tome ese dia, y luego nos lo traduzca a español"
      ],
      "metadata": {
        "id": "6RNNPwA6OO7I"
      }
    },
    {
      "cell_type": "code",
      "source": [
        "## Creo diccionario con palabras en ingles como llaves...\n",
        "## ... y palabras en español como valores\n",
        "Dicc_ingl_esp = {\n",
        "                 \"Monday\":\"Lunes\",\n",
        "                 \"Tuesday\":\"Martes\",\n",
        "                 \"Wednesday\":\"Miercoles\",\n",
        "                 \"Thursday\":\"Jueves\",\n",
        "                 \"Friday\":\"Viernes\",\n",
        "                 \"Saturday\":\"Sabado\",\n",
        "                 \"Sunday\":\"Domingo\"\n",
        "                 }\n",
        "## En el diccionario donde almaceno las palabras, busco por la llave...\n",
        "## ... la palabra en ingles\n",
        "print(f\"El dia {dia_semana}, corresponde a {Dicc_ingl_esp[dia_semana]}\")"
      ],
      "metadata": {
        "colab": {
          "base_uri": "https://localhost:8080/"
        },
        "id": "uuspu2e6ONJK",
        "outputId": "f16b36af-6c7d-4d4b-fef0-b55aba8ac2db"
      },
      "execution_count": null,
      "outputs": [
        {
          "output_type": "stream",
          "name": "stdout",
          "text": [
            "El dia Sunday, corresponde a Domingo\n"
          ]
        }
      ]
    },
    {
      "cell_type": "markdown",
      "source": [
        "## Ejercicio 2: Manipulación de Archivos con os y shutil\n",
        "**Objetivo**: Crear, mover y eliminar archivos y directorios.\n",
        "### Instrucciones:\n",
        "1. Importa los módulos `os` y `shutil`.\n",
        "2. Crea un directorio llamado `prueba`.\n",
        "3. Crea un archivo de texto llamado `ejemplo.txt` dentro del directorio `prueba`.\n",
        "4. Mueve el archivo `ejemplo.txt` a un nuevo directorio llamado `destino`.\n",
        "5. Elimina el archivo y los directorios creados.\n",
        "\n",
        "https://docs.python.org/es/3.10/library/os.html\n",
        "\n",
        "https://docs.python.org/es/3.13/library/shutil.html"
      ],
      "metadata": {
        "id": "QweczpRVHjph"
      }
    },
    {
      "cell_type": "code",
      "source": [
        "import os\n",
        "import shutil\n",
        "\n",
        "# Crear directorio 'prueba'\n",
        "os.makedirs('prueba', exist_ok=True)\n",
        "\n",
        "# Crear archivo 'ejemplo.txt' dentro de 'prueba'\n",
        "with open('prueba/ejemplo.txt', 'w') as archivo:\n",
        "    archivo.write(\"Este es un archivo de ejemplo.\")\n",
        "\n",
        "# Crear directorio 'destino'\n",
        "os.makedirs('destino', exist_ok=True)\n",
        "\n",
        "# Mover 'ejemplo.txt' a 'destino'\n",
        "shutil.move('prueba/ejemplo.txt', 'destino/ejemplo.txt')\n",
        "\n",
        "# Eliminar archivo y directorios\n",
        "os.remove('destino/ejemplo.txt')\n",
        "os.rmdir('destino')\n",
        "os.rmdir('prueba')\n",
        "\n",
        "print(\"Archivos y directorios creados, movidos y eliminados exitosamente.\")"
      ],
      "metadata": {
        "id": "EhKPYE1-HsIo",
        "colab": {
          "base_uri": "https://localhost:8080/"
        },
        "outputId": "4d9b01f3-9d2a-4036-f798-0aa22510e266"
      },
      "execution_count": null,
      "outputs": [
        {
          "output_type": "stream",
          "name": "stdout",
          "text": [
            "Archivos y directorios creados, movidos y eliminados exitosamente.\n"
          ]
        }
      ]
    },
    {
      "cell_type": "markdown",
      "source": [
        "## Ejercicio 3: Trabajando con Datos JSON con json\n",
        "**Objetivo**: Leer y escribir datos en formato JSON.\n",
        "### Instrucciones:\n",
        "1. Importa el módulo `json`.\n",
        "2. Convierte un diccionario Python a una cadena JSON y guárdala en un archivo.\n",
        "3. Lee el archivo JSON y convierte los datos de vuelta a un diccionario Python.\n",
        "\n",
        "# https://docs.python.org/3/library/json.html\n"
      ],
      "metadata": {
        "id": "WiSxhDqMHvEa"
      }
    },
    {
      "cell_type": "code",
      "source": [
        "## Importo librerias para trabajar con archivos JSON\n",
        "import os  ## Manipulacion de archivos locales\n",
        "import json  ## Manipulacion de archivos JSON\n",
        "\n",
        "# Creo un diccionario de ejemplo\n",
        "datos = {\n",
        "    \"nombre\": \"Juan\",\n",
        "    \"edad\": 30,\n",
        "    \"ciudad\": \"Madrid\"\n",
        "}\n",
        "\n",
        "# Convertir diccionario a cadena JSON\n",
        "datos_json = json.dumps(datos, indent=4)\n",
        "print(\"Datos en formato JSON:\")\n",
        "print(datos_json)\n",
        "\n",
        "# Guardar cadena JSON en un archivo\n",
        "with open('datos.json', 'w') as archivo:  ## Con la \"w\" indico que voy a escribir\n",
        "    archivo.write(datos_json)"
      ],
      "metadata": {
        "id": "F_7LkQD9H1QP",
        "colab": {
          "base_uri": "https://localhost:8080/"
        },
        "outputId": "364a9e2d-3828-42bf-ec22-46f07c805d02"
      },
      "execution_count": null,
      "outputs": [
        {
          "output_type": "stream",
          "name": "stdout",
          "text": [
            "Datos en formato JSON:\n",
            "{\n",
            "    \"nombre\": \"Juan\",\n",
            "    \"edad\": 30,\n",
            "    \"ciudad\": \"Madrid\"\n",
            "}\n"
          ]
        }
      ]
    },
    {
      "cell_type": "code",
      "source": [
        "# Leer archivo JSON y convertir a diccionario Python\n",
        "with open('datos.json', 'r') as archivo:\n",
        "    datos_leidos = json.load(archivo)\n",
        "\n",
        "print(\"Datos leídos del archivo JSON:\")  ## Imprimimos los datos de nuestro archivo\n",
        "print(datos_leidos)"
      ],
      "metadata": {
        "colab": {
          "base_uri": "https://localhost:8080/"
        },
        "id": "TPkkNQAoDM9a",
        "outputId": "14129f73-7b2b-40d3-cf43-c1a44fa3ccf8"
      },
      "execution_count": null,
      "outputs": [
        {
          "output_type": "stream",
          "name": "stdout",
          "text": [
            "Datos leídos del archivo JSON:\n",
            "{'nombre': 'Juan', 'edad': 30, 'ciudad': 'Madrid'}\n"
          ]
        }
      ]
    },
    {
      "cell_type": "code",
      "source": [
        "# Eliminar archivo JSON\n",
        "os.remove('datos.json')"
      ],
      "metadata": {
        "id": "haLZJwcsYt9O"
      },
      "execution_count": null,
      "outputs": []
    },
    {
      "cell_type": "markdown",
      "source": [
        "## Ejercicio 5: Expresiones Regulares con re\n",
        "**Objetivo**: Validar correos electrónicos y extraer números de una cadena.\n",
        "# Instrucciones:\n",
        "1. Importa el módulo `re`.\n",
        "2. Valida una lista de correos electrónicos utilizando una expresión regular.\n",
        "3. Extrae todos los números de una cadena dada.\n",
        "\n",
        "# https://docs.python.org/3/library/re.html\n"
      ],
      "metadata": {
        "id": "vCB6xL3rH5q6"
      }
    },
    {
      "cell_type": "code",
      "source": [
        "import re\n",
        "\n",
        "# Cadena con números\n",
        "cadena = \"El precio es 123 y el código es 4567\"\n",
        "\n",
        "# Expresión regular para extraer números\n",
        "numeros = re.findall(r'\\d+', cadena)\n",
        "print(\"Números encontrados en la cadena:\")\n",
        "print(numeros)\n",
        "\n",
        "\n",
        "# Validar correos electrónicos\n",
        "correo = \"usuario@example.com\"\n",
        "regex = r'^[a-zA-Z0-9._%+-]+@[a-zA-Z0-9.-]+\\.[a-zA-Z]{2,}$'\n",
        "\n",
        "if re.match(regex, correo):\n",
        "    print(\"Correo válido\")\n",
        "else:\n",
        "    print(\"Correo inválido\")\n",
        "\n",
        "# ^debe coincidir desde el comienzo\n",
        "# [a-zA-Z0-9._%+-]+: Nombre del correo con letras, dígitos y caracteres permitidos.\n",
        "# @: Obliga a incluir el símbolo @.\n",
        "# [a-zA-Z0-9.-]+: Nombre del dominio.\n",
        "# \\.[a-zA-Z]{2,}: Extensión del dominio (como .com o .org).\n",
        "\n",
        "# Buscar palabras específicas\n",
        "texto = \"Hoy es un buen día. Buen tiempo y buena compañía.\"\n",
        "palabras = re.findall(r'\\bbuen\\b', texto, re.IGNORECASE)\n",
        "print(palabras)  # Salida: ['buen']\n",
        "\n",
        "# \\b marca límites de palabras, asegurándose de que \"buen\" no forme parte de otra palabra (como \"buenísimo\").\n",
        "\n",
        "\n",
        "# Validar números de teléfono\n",
        "telefono = \"123-456-7890\"\n",
        "regex = r'^\\d{3}-\\d{3}-\\d{4}$'\n",
        "\n",
        "if re.match(regex, telefono):\n",
        "    print(\"Teléfono válido\")\n",
        "else:\n",
        "    print(\"Teléfono inválido\")\n",
        "\n",
        "# \\d{3}: Tres dígitos consecutivos.\n",
        "# -: Obligatorio guion.\n",
        "# \\d{4}: Cuatro dígitos consecutivos.\n",
        "\n",
        "# Validar contraseñas fuertes\n",
        "contrasena = \"Fuerte123!\"\n",
        "regex = r'^(?=.*[A-Z])(?=.*[a-z])(?=.*\\d)(?=.*[@$!%*?&])[A-Za-z\\d@$!%*?&]{8,}$'\n",
        "\n",
        "if re.match(regex, contrasena):\n",
        "    print(\"Contraseña válida\")\n",
        "else:\n",
        "    print(\"Contraseña inválida\")\n",
        "\n",
        "# (?=.*[A-Z]): Al menos una mayúscula.\n",
        "# (?=.*[a-z]): Al menos una minúscula.\n",
        "# (?=.*\\d): Al menos un dígito.\n",
        "# (?=.*[@$!%*?&]): Al menos un carácter especial.\n",
        "# {8,}: Al menos 8 caracteres."
      ],
      "metadata": {
        "id": "nLDl47rjH9jE",
        "colab": {
          "base_uri": "https://localhost:8080/"
        },
        "outputId": "3f114e26-438f-42ec-8437-8a4168a19bd2"
      },
      "execution_count": null,
      "outputs": [
        {
          "output_type": "stream",
          "name": "stdout",
          "text": [
            "Números encontrados en la cadena:\n",
            "['123', '4567']\n",
            "Correo válido\n",
            "['buen', 'Buen']\n",
            "Teléfono válido\n",
            "Contraseña válida\n"
          ]
        }
      ]
    }
  ]
}